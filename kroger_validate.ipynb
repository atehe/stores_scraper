{
 "cells": [
  {
   "cell_type": "code",
   "execution_count": null,
   "metadata": {},
   "outputs": [],
   "source": []
  },
  {
   "cell_type": "code",
   "execution_count": 1,
   "metadata": {},
   "outputs": [],
   "source": [
    "import pandas as pd"
   ]
  },
  {
   "cell_type": "code",
   "execution_count": 2,
   "metadata": {},
   "outputs": [
    {
     "data": {
      "text/html": [
       "<div>\n",
       "<style scoped>\n",
       "    .dataframe tbody tr th:only-of-type {\n",
       "        vertical-align: middle;\n",
       "    }\n",
       "\n",
       "    .dataframe tbody tr th {\n",
       "        vertical-align: top;\n",
       "    }\n",
       "\n",
       "    .dataframe thead th {\n",
       "        text-align: right;\n",
       "    }\n",
       "</style>\n",
       "<table border=\"1\" class=\"dataframe\">\n",
       "  <thead>\n",
       "    <tr style=\"text-align: right;\">\n",
       "      <th></th>\n",
       "      <th>name</th>\n",
       "      <th>subcategory</th>\n",
       "      <th>category</th>\n",
       "      <th>product_id</th>\n",
       "      <th>url</th>\n",
       "      <th>price</th>\n",
       "    </tr>\n",
       "  </thead>\n",
       "  <tbody>\n",
       "    <tr>\n",
       "      <th>0</th>\n",
       "      <td>SkinnyPop Popcorn</td>\n",
       "      <td>Snacks</td>\n",
       "      <td>Pantry</td>\n",
       "      <td>0085025100400</td>\n",
       "      <td>https://www.kroger.com/p/skinnypop-popcorn/008...</td>\n",
       "      <td>3.29</td>\n",
       "    </tr>\n",
       "    <tr>\n",
       "      <th>1</th>\n",
       "      <td>Simple Truth Organic® Blue Corn Tortilla Chips</td>\n",
       "      <td>Snacks</td>\n",
       "      <td>Pantry</td>\n",
       "      <td>0001111086062</td>\n",
       "      <td>https://www.kroger.com/p/simple-truth-organic-...</td>\n",
       "      <td>2.99</td>\n",
       "    </tr>\n",
       "    <tr>\n",
       "      <th>2</th>\n",
       "      <td>Kettle Brand® Jalapeno Potato Chips</td>\n",
       "      <td>Snacks</td>\n",
       "      <td>Pantry</td>\n",
       "      <td>0008411411632</td>\n",
       "      <td>https://www.kroger.com/p/kettle-brand-jalapeno...</td>\n",
       "      <td>3.19</td>\n",
       "    </tr>\n",
       "    <tr>\n",
       "      <th>3</th>\n",
       "      <td>Kettle Brand® Sea Salt Potato Chips</td>\n",
       "      <td>Snacks</td>\n",
       "      <td>Pantry</td>\n",
       "      <td>0008411410812</td>\n",
       "      <td>https://www.kroger.com/p/kettle-brand-sea-salt...</td>\n",
       "      <td>3.19</td>\n",
       "    </tr>\n",
       "    <tr>\n",
       "      <th>4</th>\n",
       "      <td>Kettle Brand® Sea Salt Potato Chips Sharing Size</td>\n",
       "      <td>Snacks</td>\n",
       "      <td>Pantry</td>\n",
       "      <td>0008411403216</td>\n",
       "      <td>https://www.kroger.com/p/kettle-brand-sea-salt...</td>\n",
       "      <td>3.50</td>\n",
       "    </tr>\n",
       "  </tbody>\n",
       "</table>\n",
       "</div>"
      ],
      "text/plain": [
       "                                               name subcategory category  \\\n",
       "0                                 SkinnyPop Popcorn      Snacks   Pantry   \n",
       "1    Simple Truth Organic® Blue Corn Tortilla Chips      Snacks   Pantry   \n",
       "2               Kettle Brand® Jalapeno Potato Chips      Snacks   Pantry   \n",
       "3               Kettle Brand® Sea Salt Potato Chips      Snacks   Pantry   \n",
       "4  Kettle Brand® Sea Salt Potato Chips Sharing Size      Snacks   Pantry   \n",
       "\n",
       "      product_id                                                url price  \n",
       "0  0085025100400  https://www.kroger.com/p/skinnypop-popcorn/008...  3.29  \n",
       "1  0001111086062  https://www.kroger.com/p/simple-truth-organic-...  2.99  \n",
       "2  0008411411632  https://www.kroger.com/p/kettle-brand-jalapeno...  3.19  \n",
       "3  0008411410812  https://www.kroger.com/p/kettle-brand-sea-salt...  3.19  \n",
       "4  0008411403216  https://www.kroger.com/p/kettle-brand-sea-salt...  3.50  "
      ]
     },
     "execution_count": 2,
     "metadata": {},
     "output_type": "execute_result"
    }
   ],
   "source": [
    "df = pd.read_csv('./kroger_products_trial.csv')\n",
    "df.head()"
   ]
  },
  {
   "cell_type": "code",
   "execution_count": 3,
   "metadata": {},
   "outputs": [
    {
     "data": {
      "text/plain": [
       "(129936, 6)"
      ]
     },
     "execution_count": 3,
     "metadata": {},
     "output_type": "execute_result"
    }
   ],
   "source": [
    "df.shape"
   ]
  },
  {
   "cell_type": "code",
   "execution_count": 4,
   "metadata": {},
   "outputs": [
    {
     "data": {
      "text/plain": [
       "name           86170\n",
       "subcategory      260\n",
       "category          26\n",
       "product_id     89299\n",
       "url            90292\n",
       "price           9885\n",
       "dtype: int64"
      ]
     },
     "execution_count": 4,
     "metadata": {},
     "output_type": "execute_result"
    }
   ],
   "source": [
    "df.nunique()"
   ]
  },
  {
   "cell_type": "code",
   "execution_count": 5,
   "metadata": {},
   "outputs": [],
   "source": [
    "df.drop_duplicates(keep='first', inplace=True)"
   ]
  },
  {
   "cell_type": "code",
   "execution_count": 6,
   "metadata": {},
   "outputs": [
    {
     "data": {
      "text/plain": [
       "(103926, 6)"
      ]
     },
     "execution_count": 6,
     "metadata": {},
     "output_type": "execute_result"
    }
   ],
   "source": [
    "df.shape"
   ]
  },
  {
   "cell_type": "code",
   "execution_count": 14,
   "metadata": {},
   "outputs": [],
   "source": [
    "home_index = df[df.category == 'Home'].index\n"
   ]
  },
  {
   "cell_type": "code",
   "execution_count": 15,
   "metadata": {},
   "outputs": [
    {
     "data": {
      "text/plain": [
       "Int64Index([54223, 54224, 54225, 54226, 54227, 54228, 54229, 54230, 54231,\n",
       "            54232,\n",
       "            ...\n",
       "            56113, 56114, 56115, 56116, 56117, 56118, 56119, 56120, 56121,\n",
       "            56122],\n",
       "           dtype='int64', length=1322)"
      ]
     },
     "execution_count": 15,
     "metadata": {},
     "output_type": "execute_result"
    }
   ],
   "source": [
    "home_index"
   ]
  },
  {
   "cell_type": "code",
   "execution_count": 17,
   "metadata": {},
   "outputs": [
    {
     "data": {
      "text/html": [
       "<div>\n",
       "<style scoped>\n",
       "    .dataframe tbody tr th:only-of-type {\n",
       "        vertical-align: middle;\n",
       "    }\n",
       "\n",
       "    .dataframe tbody tr th {\n",
       "        vertical-align: top;\n",
       "    }\n",
       "\n",
       "    .dataframe thead th {\n",
       "        text-align: right;\n",
       "    }\n",
       "</style>\n",
       "<table border=\"1\" class=\"dataframe\">\n",
       "  <thead>\n",
       "    <tr style=\"text-align: right;\">\n",
       "      <th></th>\n",
       "      <th>name</th>\n",
       "      <th>subcategory</th>\n",
       "      <th>category</th>\n",
       "      <th>product_id</th>\n",
       "      <th>url</th>\n",
       "      <th>price</th>\n",
       "    </tr>\n",
       "  </thead>\n",
       "  <tbody>\n",
       "  </tbody>\n",
       "</table>\n",
       "</div>"
      ],
      "text/plain": [
       "Empty DataFrame\n",
       "Columns: [name, subcategory, category, product_id, url, price]\n",
       "Index: []"
      ]
     },
     "execution_count": 17,
     "metadata": {},
     "output_type": "execute_result"
    }
   ],
   "source": [
    "df.drop(index=home_index, inplace=True)\n",
    "df[df.category == 'Home']"
   ]
  },
  {
   "cell_type": "code",
   "execution_count": 18,
   "metadata": {},
   "outputs": [
    {
     "data": {
      "text/plain": [
       "(102604, 6)"
      ]
     },
     "execution_count": 18,
     "metadata": {},
     "output_type": "execute_result"
    }
   ],
   "source": [
    "df.shape"
   ]
  },
  {
   "cell_type": "code",
   "execution_count": 23,
   "metadata": {},
   "outputs": [
    {
     "data": {
      "text/plain": [
       "name           85829\n",
       "subcategory      258\n",
       "category          25\n",
       "product_id     88957\n",
       "url            89007\n",
       "price           9874\n",
       "dtype: int64"
      ]
     },
     "execution_count": 23,
     "metadata": {},
     "output_type": "execute_result"
    }
   ],
   "source": [
    "df.nunique()"
   ]
  },
  {
   "cell_type": "code",
   "execution_count": 25,
   "metadata": {},
   "outputs": [
    {
     "data": {
      "text/html": [
       "<div>\n",
       "<style scoped>\n",
       "    .dataframe tbody tr th:only-of-type {\n",
       "        vertical-align: middle;\n",
       "    }\n",
       "\n",
       "    .dataframe tbody tr th {\n",
       "        vertical-align: top;\n",
       "    }\n",
       "\n",
       "    .dataframe thead th {\n",
       "        text-align: right;\n",
       "    }\n",
       "</style>\n",
       "<table border=\"1\" class=\"dataframe\">\n",
       "  <thead>\n",
       "    <tr style=\"text-align: right;\">\n",
       "      <th></th>\n",
       "      <th>name</th>\n",
       "      <th>subcategory</th>\n",
       "      <th>category</th>\n",
       "      <th>product_id</th>\n",
       "      <th>url</th>\n",
       "      <th>price</th>\n",
       "    </tr>\n",
       "  </thead>\n",
       "  <tbody>\n",
       "    <tr>\n",
       "      <th>0</th>\n",
       "      <td>SkinnyPop Popcorn</td>\n",
       "      <td>Snacks</td>\n",
       "      <td>Pantry</td>\n",
       "      <td>0085025100400</td>\n",
       "      <td>https://www.kroger.com/p/skinnypop-popcorn/008...</td>\n",
       "      <td>3.29</td>\n",
       "    </tr>\n",
       "    <tr>\n",
       "      <th>1</th>\n",
       "      <td>Simple Truth Organic® Blue Corn Tortilla Chips</td>\n",
       "      <td>Snacks</td>\n",
       "      <td>Pantry</td>\n",
       "      <td>0001111086062</td>\n",
       "      <td>https://www.kroger.com/p/simple-truth-organic-...</td>\n",
       "      <td>2.99</td>\n",
       "    </tr>\n",
       "    <tr>\n",
       "      <th>2</th>\n",
       "      <td>Kettle Brand® Jalapeno Potato Chips</td>\n",
       "      <td>Snacks</td>\n",
       "      <td>Pantry</td>\n",
       "      <td>0008411411632</td>\n",
       "      <td>https://www.kroger.com/p/kettle-brand-jalapeno...</td>\n",
       "      <td>3.19</td>\n",
       "    </tr>\n",
       "    <tr>\n",
       "      <th>3</th>\n",
       "      <td>Kettle Brand® Sea Salt Potato Chips</td>\n",
       "      <td>Snacks</td>\n",
       "      <td>Pantry</td>\n",
       "      <td>0008411410812</td>\n",
       "      <td>https://www.kroger.com/p/kettle-brand-sea-salt...</td>\n",
       "      <td>3.19</td>\n",
       "    </tr>\n",
       "    <tr>\n",
       "      <th>4</th>\n",
       "      <td>Kettle Brand® Sea Salt Potato Chips Sharing Size</td>\n",
       "      <td>Snacks</td>\n",
       "      <td>Pantry</td>\n",
       "      <td>0008411403216</td>\n",
       "      <td>https://www.kroger.com/p/kettle-brand-sea-salt...</td>\n",
       "      <td>3.50</td>\n",
       "    </tr>\n",
       "  </tbody>\n",
       "</table>\n",
       "</div>"
      ],
      "text/plain": [
       "                                               name subcategory category  \\\n",
       "0                                 SkinnyPop Popcorn      Snacks   Pantry   \n",
       "1    Simple Truth Organic® Blue Corn Tortilla Chips      Snacks   Pantry   \n",
       "2               Kettle Brand® Jalapeno Potato Chips      Snacks   Pantry   \n",
       "3               Kettle Brand® Sea Salt Potato Chips      Snacks   Pantry   \n",
       "4  Kettle Brand® Sea Salt Potato Chips Sharing Size      Snacks   Pantry   \n",
       "\n",
       "      product_id                                                url price  \n",
       "0  0085025100400  https://www.kroger.com/p/skinnypop-popcorn/008...  3.29  \n",
       "1  0001111086062  https://www.kroger.com/p/simple-truth-organic-...  2.99  \n",
       "2  0008411411632  https://www.kroger.com/p/kettle-brand-jalapeno...  3.19  \n",
       "3  0008411410812  https://www.kroger.com/p/kettle-brand-sea-salt...  3.19  \n",
       "4  0008411403216  https://www.kroger.com/p/kettle-brand-sea-salt...  3.50  "
      ]
     },
     "execution_count": 25,
     "metadata": {},
     "output_type": "execute_result"
    }
   ],
   "source": [
    "df.head()"
   ]
  },
  {
   "cell_type": "code",
   "execution_count": 27,
   "metadata": {},
   "outputs": [],
   "source": [
    "df.to_csv('./kroger_products.csv',index=False)"
   ]
  }
 ],
 "metadata": {
  "interpreter": {
   "hash": "bc6b9eb75f20ddffb1d3b40ef75b57e8b94d49d418deb47fb8c3c7c037dbd6d7"
  },
  "kernelspec": {
   "display_name": "Python 3.10.4 ('data')",
   "language": "python",
   "name": "python3"
  },
  "language_info": {
   "codemirror_mode": {
    "name": "ipython",
    "version": 3
   },
   "file_extension": ".py",
   "mimetype": "text/x-python",
   "name": "python",
   "nbconvert_exporter": "python",
   "pygments_lexer": "ipython3",
   "version": "3.10.4"
  },
  "orig_nbformat": 4
 },
 "nbformat": 4,
 "nbformat_minor": 2
}
