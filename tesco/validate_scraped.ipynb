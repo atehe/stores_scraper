{
 "cells": [
  {
   "cell_type": "code",
   "execution_count": 2,
   "metadata": {},
   "outputs": [
    {
     "data": {
      "text/html": [
       "<div>\n",
       "<style scoped>\n",
       "    .dataframe tbody tr th:only-of-type {\n",
       "        vertical-align: middle;\n",
       "    }\n",
       "\n",
       "    .dataframe tbody tr th {\n",
       "        vertical-align: top;\n",
       "    }\n",
       "\n",
       "    .dataframe thead th {\n",
       "        text-align: right;\n",
       "    }\n",
       "</style>\n",
       "<table border=\"1\" class=\"dataframe\">\n",
       "  <thead>\n",
       "    <tr style=\"text-align: right;\">\n",
       "      <th></th>\n",
       "      <th>Name</th>\n",
       "      <th>Category</th>\n",
       "      <th>Subcategory</th>\n",
       "      <th>Product ID</th>\n",
       "      <th>Product URL</th>\n",
       "      <th>Price</th>\n",
       "      <th>Cup Price</th>\n",
       "    </tr>\n",
       "  </thead>\n",
       "  <tbody>\n",
       "    <tr>\n",
       "      <th>0</th>\n",
       "      <td>Tesco 8 Sweet Pancakes</td>\n",
       "      <td>Bakery</td>\n",
       "      <td>Crumpets, Muffins &amp; Pancakes</td>\n",
       "      <td>258296697</td>\n",
       "      <td>https://www.tesco.com/groceries/en-GB/products...</td>\n",
       "      <td>£ 2.10</td>\n",
       "      <td>£0.26/each</td>\n",
       "    </tr>\n",
       "    <tr>\n",
       "      <th>1</th>\n",
       "      <td>Cinnamon Tear &amp; Share Bun</td>\n",
       "      <td>Bakery</td>\n",
       "      <td>Croissants, Brioche &amp; Pastries</td>\n",
       "      <td>276132657</td>\n",
       "      <td>https://www.tesco.com/groceries/en-GB/products...</td>\n",
       "      <td>£ 3.25</td>\n",
       "      <td>£3.25/each</td>\n",
       "    </tr>\n",
       "    <tr>\n",
       "      <th>2</th>\n",
       "      <td>Tesco Finest All-Butter Scones 2 Pack</td>\n",
       "      <td>Bakery</td>\n",
       "      <td>Teacakes, Fruit Loaves &amp; Scones</td>\n",
       "      <td>309467359</td>\n",
       "      <td>https://www.tesco.com/groceries/en-GB/products...</td>\n",
       "      <td>£ 1.00</td>\n",
       "      <td>£0.50/each</td>\n",
       "    </tr>\n",
       "    <tr>\n",
       "      <th>3</th>\n",
       "      <td>Tesco Finest All-Butter Fruit Scones 2 Pack</td>\n",
       "      <td>Bakery</td>\n",
       "      <td>Teacakes, Fruit Loaves &amp; Scones</td>\n",
       "      <td>309461516</td>\n",
       "      <td>https://www.tesco.com/groceries/en-GB/products...</td>\n",
       "      <td>£ 1.00</td>\n",
       "      <td>£0.50/each</td>\n",
       "    </tr>\n",
       "    <tr>\n",
       "      <th>4</th>\n",
       "      <td>Krispy Kreme Sharer Dozen</td>\n",
       "      <td>Bakery</td>\n",
       "      <td>Doughnuts, Cookies &amp; Muffins</td>\n",
       "      <td>296339960</td>\n",
       "      <td>https://www.tesco.com/groceries/en-GB/products...</td>\n",
       "      <td>£ 13.95</td>\n",
       "      <td>£1.17/each</td>\n",
       "    </tr>\n",
       "  </tbody>\n",
       "</table>\n",
       "</div>"
      ],
      "text/plain": [
       "                                          Name Category  \\\n",
       "0                       Tesco 8 Sweet Pancakes   Bakery   \n",
       "1                    Cinnamon Tear & Share Bun   Bakery   \n",
       "2        Tesco Finest All-Butter Scones 2 Pack   Bakery   \n",
       "3  Tesco Finest All-Butter Fruit Scones 2 Pack   Bakery   \n",
       "4                    Krispy Kreme Sharer Dozen   Bakery   \n",
       "\n",
       "                       Subcategory  Product ID  \\\n",
       "0     Crumpets, Muffins & Pancakes   258296697   \n",
       "1   Croissants, Brioche & Pastries   276132657   \n",
       "2  Teacakes, Fruit Loaves & Scones   309467359   \n",
       "3  Teacakes, Fruit Loaves & Scones   309461516   \n",
       "4     Doughnuts, Cookies & Muffins   296339960   \n",
       "\n",
       "                                         Product URL    Price   Cup Price  \n",
       "0  https://www.tesco.com/groceries/en-GB/products...   £ 2.10  £0.26/each  \n",
       "1  https://www.tesco.com/groceries/en-GB/products...   £ 3.25  £3.25/each  \n",
       "2  https://www.tesco.com/groceries/en-GB/products...   £ 1.00  £0.50/each  \n",
       "3  https://www.tesco.com/groceries/en-GB/products...   £ 1.00  £0.50/each  \n",
       "4  https://www.tesco.com/groceries/en-GB/products...  £ 13.95  £1.17/each  "
      ]
     },
     "execution_count": 2,
     "metadata": {},
     "output_type": "execute_result"
    }
   ],
   "source": [
    "import pandas as pd\n",
    "df = pd.read_csv('./tesco_products.csv')\n",
    "df.head()"
   ]
  },
  {
   "cell_type": "code",
   "execution_count": 3,
   "metadata": {},
   "outputs": [
    {
     "data": {
      "text/plain": [
       "25384"
      ]
     },
     "execution_count": 3,
     "metadata": {},
     "output_type": "execute_result"
    }
   ],
   "source": [
    "df.Name.nunique()"
   ]
  },
  {
   "cell_type": "code",
   "execution_count": 6,
   "metadata": {},
   "outputs": [
    {
     "data": {
      "text/plain": [
       "Name           25384\n",
       "Category          11\n",
       "Subcategory      148\n",
       "Product ID     25409\n",
       "Product URL    25409\n",
       "Price            546\n",
       "Cup Price       3151\n",
       "dtype: int64"
      ]
     },
     "execution_count": 6,
     "metadata": {},
     "output_type": "execute_result"
    }
   ],
   "source": [
    "df.nunique()"
   ]
  },
  {
   "cell_type": "code",
   "execution_count": 8,
   "metadata": {},
   "outputs": [
    {
     "data": {
      "text/plain": [
       "(32581, 7)"
      ]
     },
     "execution_count": 8,
     "metadata": {},
     "output_type": "execute_result"
    }
   ],
   "source": [
    "df.shape"
   ]
  }
 ],
 "metadata": {
  "interpreter": {
   "hash": "e6c19561bd1a2cc768da22c4b70649a2539604949b64980c35d7e4694ef6d554"
  },
  "kernelspec": {
   "display_name": "Python 3.10.4 ('dev')",
   "language": "python",
   "name": "python3"
  },
  "language_info": {
   "codemirror_mode": {
    "name": "ipython",
    "version": 3
   },
   "file_extension": ".py",
   "mimetype": "text/x-python",
   "name": "python",
   "nbconvert_exporter": "python",
   "pygments_lexer": "ipython3",
   "version": "3.10.4"
  },
  "orig_nbformat": 4
 },
 "nbformat": 4,
 "nbformat_minor": 2
}
